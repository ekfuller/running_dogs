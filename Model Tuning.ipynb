{
 "cells": [
  {
   "cell_type": "markdown",
   "id": "7d873f13-189e-4481-9fb4-e7cf0da6650c",
   "metadata": {},
   "source": [
    "### This notebook tunes the hyperparameters of a few well performing models"
   ]
  },
  {
   "cell_type": "markdown",
   "id": "db74dfc7-c116-41dd-b325-326353bfeb46",
   "metadata": {},
   "source": [
    "I used gridsearchCV to sift through the hyperparameters to try to build a model with higher performance. Each model listed is tuned using gridsearch and the accuracy is compared to the baseline."
   ]
  },
  {
   "cell_type": "markdown",
   "id": "f740f17b-bcfe-45b7-a44b-7e1aaf1a73a1",
   "metadata": {},
   "source": [
    "#### Import libraries, data and pickles"
   ]
  },
  {
   "cell_type": "code",
   "execution_count": 114,
   "id": "c9fd14b1-8f23-417c-860f-baf679dca43d",
   "metadata": {},
   "outputs": [],
   "source": [
    "import pandas as pd\n",
    "import numpy as np\n",
    "import matplotlib.pyplot as plt\n",
    "import seaborn as sns\n",
    "import pickle\n",
    "import nltk\n",
    "\n",
    "from sklearn.feature_extraction.text import CountVectorizer\n",
    "from sklearn.model_selection import train_test_split, GridSearchCV\n",
    "from sklearn.preprocessing import StandardScaler\n",
    "from sklearn.linear_model import LogisticRegression\n",
    "from sklearn.pipeline import make_pipeline\n",
    "from sklearn.metrics import ConfusionMatrixDisplay\n",
    "from sklearn.ensemble import RandomForestClassifier, ExtraTreesClassifier, VotingClassifier\n",
    "from sklearn.tree import DecisionTreeClassifier\n",
    "from sklearn.neighbors import KNeighborsClassifier\n",
    "from sklearn.naive_bayes import GaussianNB\n",
    "from sklearn.ensemble import AdaBoostClassifier, GradientBoostingClassifier"
   ]
  },
  {
   "cell_type": "code",
   "execution_count": 115,
   "id": "7d7d7c48-9db3-400f-9248-409be5666139",
   "metadata": {},
   "outputs": [],
   "source": [
    "with open('./pickles/custom_words.pkl', 'rb') as x:\n",
    "    custom_words = pickle.load(x)"
   ]
  },
  {
   "cell_type": "code",
   "execution_count": 19,
   "id": "6ae84659-6e1e-4cbd-b287-92c0f9ef09fe",
   "metadata": {},
   "outputs": [],
   "source": [
    "df= pd.read_csv('./data/cleaned_posts.csv')"
   ]
  },
  {
   "cell_type": "code",
   "execution_count": 116,
   "id": "36ecf281-7ecb-422b-befa-77d132521f4d",
   "metadata": {},
   "outputs": [],
   "source": [
    "X=df['selftext']\n",
    "y=df['subreddit']\n",
    "\n",
    "X_train, X_test, y_train, y_test = train_test_split(X,y, random_state=20, stratify=y)"
   ]
  },
  {
   "cell_type": "markdown",
   "id": "6226d393-5997-4cdf-be23-0e5d24d25d6e",
   "metadata": {},
   "source": []
  },
  {
   "cell_type": "markdown",
   "id": "b58d22df-d8a8-4a22-aa28-bccf50507976",
   "metadata": {},
   "source": [
    "#### KNN"
   ]
  },
  {
   "cell_type": "code",
   "execution_count": 15,
   "id": "9dffa7eb-0a89-4237-bb10-01980097a446",
   "metadata": {},
   "outputs": [],
   "source": [
    "with open('./pickles/pipe_knn.pkl', 'rb') as x:\n",
    "    pipe_knn = pickle.load(x)"
   ]
  },
  {
   "cell_type": "code",
   "execution_count": 21,
   "id": "7dacad76-d923-4a35-a1ad-c0d19489b476",
   "metadata": {},
   "outputs": [],
   "source": [
    "params2 ={\n",
    "    'kneighborsclassifier__n_neighbors':[7,8,9,10,11],\n",
    "    'kneighborsclassifier__weights':['uniform','distance'],\n",
    "    'kneighborsclassifier__leaf_size':[3,5,10,20,30,40],\n",
    "    'countvectorizer__max_features': [None, 100, 1000],\n",
    "    'countvectorizer__min_df': [1,2,3,4],\n",
    "    'countvectorizer__ngram_range': [(1,1),(1, 2)]\n",
    "\n",
    "}"
   ]
  },
  {
   "cell_type": "code",
   "execution_count": 22,
   "id": "c85af1f6-26f3-4e57-a29c-786742a5a1de",
   "metadata": {},
   "outputs": [],
   "source": [
    "gs2= GridSearchCV(\n",
    "    pipe_knn,\n",
    "    param_grid=params2,\n",
    "    n_jobs=-1\n",
    ")"
   ]
  },
  {
   "cell_type": "code",
   "execution_count": 23,
   "id": "414abd55-d1e3-4928-b5d5-90c7a3a84b16",
   "metadata": {},
   "outputs": [
    {
     "data": {
      "text/plain": [
       "GridSearchCV(estimator=Pipeline(steps=[('countvectorizer',\n",
       "                                        CountVectorizer(stop_words=['running',\n",
       "                                                                    'run',\n",
       "                                                                    'marathon',\n",
       "                                                                    'race',\n",
       "                                                                    'runs',\n",
       "                                                                    'ran',\n",
       "                                                                    'shoes',\n",
       "                                                                    'runner',\n",
       "                                                                    'runners',\n",
       "                                                                    'pain',\n",
       "                                                                    'miles',\n",
       "                                                                    'mile',\n",
       "                                                                    'track',\n",
       "                                                                    'post',\n",
       "                                                                    'treadmill',\n",
       "                                                                    'app',\n",
       "                                                                    'title',\n",
       "                                                                    'wondering',\n",
       "                                                                    'foot',\n",
       "                                                                    'pace',\n",
       "                                                                    'jogging',\n",
       "                                                                    'shoe',\n",
       "                                                                    'https',\n",
       "                                                                    'thread',\n",
       "                                                                    'curious',\n",
       "                                                                    'week',\n",
       "                                                                    '5k',\n",
       "                                                                    'haven',\n",
       "                                                                    'body',\n",
       "                                                                    'atl', ...])),\n",
       "                                       ('kneighborsclassifier',\n",
       "                                        KNeighborsClassifier())]),\n",
       "             n_jobs=-1,\n",
       "             param_grid={'countvectorizer__max_features': [None, 100, 1000],\n",
       "                         'countvectorizer__min_df': [1, 2, 3, 4],\n",
       "                         'countvectorizer__ngram_range': [(1, 1), (1, 2)],\n",
       "                         'kneighborsclassifier__leaf_size': [3, 5, 10, 20, 30,\n",
       "                                                             40],\n",
       "                         'kneighborsclassifier__n_neighbors': [7, 8, 9, 10, 11],\n",
       "                         'kneighborsclassifier__weights': ['uniform',\n",
       "                                                           'distance']})"
      ]
     },
     "execution_count": 23,
     "metadata": {},
     "output_type": "execute_result"
    }
   ],
   "source": [
    "gs2.fit(X_train, y_train)"
   ]
  },
  {
   "cell_type": "code",
   "execution_count": 24,
   "id": "9468a3f8-bdc8-4381-b289-2375d504e35a",
   "metadata": {},
   "outputs": [
    {
     "data": {
      "text/plain": [
       "Pipeline(steps=[('countvectorizer',\n",
       "                 CountVectorizer(max_features=100,\n",
       "                                 stop_words=['running', 'run', 'marathon',\n",
       "                                             'race', 'runs', 'ran', 'shoes',\n",
       "                                             'runner', 'runners', 'pain',\n",
       "                                             'miles', 'mile', 'track', 'post',\n",
       "                                             'treadmill', 'app', 'title',\n",
       "                                             'wondering', 'foot', 'pace',\n",
       "                                             'jogging', 'shoe', 'https',\n",
       "                                             'thread', 'curious', 'week', '5k',\n",
       "                                             'haven', 'body', 'atl', ...])),\n",
       "                ('kneighborsclassifier',\n",
       "                 KNeighborsClassifier(leaf_size=3, n_neighbors=10))])"
      ]
     },
     "execution_count": 24,
     "metadata": {},
     "output_type": "execute_result"
    }
   ],
   "source": [
    "gs2.best_estimator_"
   ]
  },
  {
   "cell_type": "code",
   "execution_count": 25,
   "id": "6b06b7d2-fbfe-4ee4-9d38-cd65f7bf11bb",
   "metadata": {},
   "outputs": [
    {
     "data": {
      "text/plain": [
       "(0.9003007170946102, 0.8868841082581541)"
      ]
     },
     "execution_count": 25,
     "metadata": {},
     "output_type": "execute_result"
    }
   ],
   "source": [
    "gs2.score(X_train, y_train), gs2.score(X_test, y_test)"
   ]
  },
  {
   "cell_type": "markdown",
   "id": "ca5cd620-d49e-4948-8fb2-58468e3ea416",
   "metadata": {},
   "source": [
    "tuning the hyperparameters improved the knn performance by 2% from 86 to 88%"
   ]
  },
  {
   "cell_type": "markdown",
   "id": "33c24de7-877d-4482-8708-190a616a2ac7",
   "metadata": {},
   "source": [
    "#### Logistic Regression Model"
   ]
  },
  {
   "cell_type": "code",
   "execution_count": 24,
   "id": "9705f5f0-25c8-4ad4-994b-45a098d8157b",
   "metadata": {},
   "outputs": [],
   "source": [
    "with open('./pickles/pipe_lr.pkl', 'rb') as x:\n",
    "    pipe_lr = pickle.load(x)"
   ]
  },
  {
   "cell_type": "code",
   "execution_count": null,
   "id": "2983b9c9-e62b-4eda-a23c-aadc632d6948",
   "metadata": {},
   "outputs": [],
   "source": [
    "pipe_lr.get_params()"
   ]
  },
  {
   "cell_type": "code",
   "execution_count": 25,
   "id": "7e95faa8-3c1d-4ef9-8487-a5dc0941c959",
   "metadata": {},
   "outputs": [],
   "source": [
    "params3= {\n",
    "    'countvectorizer__max_features': [None, 100, 1000],\n",
    "    'countvectorizer__min_df': [1,2,3,4],\n",
    "    'countvectorizer__ngram_range': [(1,1),(1, 2)],\n",
    "    'logisticregression__C':[.5,1,10]\n",
    "}"
   ]
  },
  {
   "cell_type": "code",
   "execution_count": 26,
   "id": "25ec1e7d-a69d-4f96-9361-4714d9f37817",
   "metadata": {},
   "outputs": [],
   "source": [
    "gs3= GridSearchCV(\n",
    "    pipe_lr,\n",
    "    param_grid=params3,\n",
    "    n_jobs=-1\n",
    ")"
   ]
  },
  {
   "cell_type": "code",
   "execution_count": 27,
   "id": "be438999-1fb5-4d5a-b944-dcb8b93d21e8",
   "metadata": {},
   "outputs": [
    {
     "data": {
      "text/plain": [
       "(0.972704140643072, 0.9382373351839001)"
      ]
     },
     "execution_count": 27,
     "metadata": {},
     "output_type": "execute_result"
    }
   ],
   "source": [
    "gs3.fit(X_train, y_train)\n",
    "\n",
    "gs3.score(X_train,y_train), gs3.score(X_test,y_test)"
   ]
  },
  {
   "cell_type": "code",
   "execution_count": 28,
   "id": "e11b113c-cb8d-4c0e-9961-e0c5803bedb3",
   "metadata": {},
   "outputs": [
    {
     "data": {
      "text/plain": [
       "Pipeline(steps=[('countvectorizer',\n",
       "                 CountVectorizer(min_df=3, ngram_range=(1, 2),\n",
       "                                 stop_words=['running', 'run', 'marathon',\n",
       "                                             'race', 'runs', 'ran', 'shoes',\n",
       "                                             'runner', 'runners', 'pain',\n",
       "                                             'miles', 'mile', 'track', 'post',\n",
       "                                             'treadmill', 'app', 'title',\n",
       "                                             'wondering', 'foot', 'pace',\n",
       "                                             'jogging', 'shoe', 'https',\n",
       "                                             'thread', 'curious', 'week', '5k',\n",
       "                                             'haven', 'body', 'atl', ...])),\n",
       "                ('logisticregression',\n",
       "                 LogisticRegression(C=0.5, max_iter=1000, random_state=20))])"
      ]
     },
     "execution_count": 28,
     "metadata": {},
     "output_type": "execute_result"
    }
   ],
   "source": [
    "gs3.best_estimator_"
   ]
  },
  {
   "cell_type": "markdown",
   "id": "583f3f13-037a-46a5-8cda-ba2ecd047594",
   "metadata": {},
   "source": [
    "#### AdaBoost"
   ]
  },
  {
   "cell_type": "code",
   "execution_count": 107,
   "id": "7a96b137-af96-4217-b57d-bcba1a77b432",
   "metadata": {},
   "outputs": [],
   "source": [
    "with open('./pickles/pipe_abc.pkl', 'rb') as x:\n",
    "    pipe_abc = pickle.load(x)"
   ]
  },
  {
   "cell_type": "code",
   "execution_count": 37,
   "id": "d9bb2584-b58f-49ab-9908-4a6b7de32303",
   "metadata": {},
   "outputs": [],
   "source": [
    "params4= {\n",
    "    'countvectorizer__max_features': [None, 100, 1000],\n",
    "    'countvectorizer__min_df': [1,2,3,4],\n",
    "    'countvectorizer__ngram_range': [(1,1),(1, 2)],\n",
    "    'adaboostclassifier__n_estimators':[10,50,100]\n",
    "}"
   ]
  },
  {
   "cell_type": "code",
   "execution_count": 38,
   "id": "6e295141-fa5c-42e8-96a0-b80eecf8438f",
   "metadata": {},
   "outputs": [
    {
     "data": {
      "text/plain": [
       "(0.953735831598427, 0.9368494101318529)"
      ]
     },
     "execution_count": 38,
     "metadata": {},
     "output_type": "execute_result"
    }
   ],
   "source": [
    "gs4= GridSearchCV(\n",
    "    pipe_abc,\n",
    "    param_grid=params4,\n",
    "    n_jobs=-1\n",
    ")\n",
    "\n",
    "gs4.fit(X_train, y_train)\n",
    "\n",
    "gs4.score(X_train,y_train), gs4.score(X_test,y_test)"
   ]
  },
  {
   "cell_type": "code",
   "execution_count": 58,
   "id": "d4457001-e644-48f0-b82f-a5af5b5368c7",
   "metadata": {},
   "outputs": [
    {
     "data": {
      "text/plain": [
       "Pipeline(steps=[('countvectorizer',\n",
       "                 CountVectorizer(stop_words=['running', 'run', 'marathon',\n",
       "                                             'race', 'runs', 'ran', 'shoes',\n",
       "                                             'runner', 'runners', 'pain',\n",
       "                                             'miles', 'mile', 'track', 'post',\n",
       "                                             'treadmill', 'app', 'title',\n",
       "                                             'wondering', 'foot', 'pace',\n",
       "                                             'jogging', 'shoe', 'https',\n",
       "                                             'thread', 'curious', 'week', '5k',\n",
       "                                             'haven', 'body', 'atl', ...])),\n",
       "                ('adaboostclassifier', AdaBoostClassifier(n_estimators=100))])"
      ]
     },
     "execution_count": 58,
     "metadata": {},
     "output_type": "execute_result"
    }
   ],
   "source": [
    "gs4.best_estimator_"
   ]
  },
  {
   "cell_type": "markdown",
   "id": "fef14a21-9208-4d39-b951-f60a1010f914",
   "metadata": {},
   "source": [
    "#### Gradient Boost"
   ]
  },
  {
   "cell_type": "code",
   "execution_count": 109,
   "id": "19216f75-d467-4faa-b31e-4844e9e15ccf",
   "metadata": {},
   "outputs": [],
   "source": [
    "with open('./pickles/pipe_gbc.pkl', 'rb') as x:\n",
    "    pipe_gbc = pickle.load(x)"
   ]
  },
  {
   "cell_type": "code",
   "execution_count": 45,
   "id": "a38ad411-0039-46ab-8fdd-a561dc7c93a6",
   "metadata": {},
   "outputs": [],
   "source": [
    "params5= {\n",
    "    'countvectorizer__max_features': [None, 100, 1000],\n",
    "    'countvectorizer__min_df': [1,2,3,4],\n",
    "    'countvectorizer__ngram_range': [(1,1),(1, 2)],\n",
    "    'gradientboostingclassifier__n_estimators':[50,100,200],\n",
    "    'gradientboostingclassifier__max_depth':[3,5,7]\n",
    "}"
   ]
  },
  {
   "cell_type": "code",
   "execution_count": 46,
   "id": "5a34bb5e-d499-46d1-8a0f-934acdc09235",
   "metadata": {},
   "outputs": [
    {
     "data": {
      "text/plain": [
       "(0.9583622484385843, 0.9319916724496877)"
      ]
     },
     "execution_count": 46,
     "metadata": {},
     "output_type": "execute_result"
    }
   ],
   "source": [
    "gs5= GridSearchCV(\n",
    "    pipe_gbc,\n",
    "    param_grid=params5,\n",
    "    n_jobs=-1\n",
    ")\n",
    "\n",
    "gs5.fit(X_train, y_train)\n",
    "\n",
    "gs5.score(X_train,y_train), gs5.score(X_test,y_test)"
   ]
  },
  {
   "cell_type": "markdown",
   "id": "34e0eed9-3504-4460-989f-8cfdb5082ba3",
   "metadata": {},
   "source": [
    "#### VTC"
   ]
  },
  {
   "cell_type": "code",
   "execution_count": 9,
   "id": "eb747b13-edad-430b-81ad-db19a6884742",
   "metadata": {},
   "outputs": [],
   "source": [
    "with open('./pickles/vc1.pkl', 'rb') as x:\n",
    "    vc1 = pickle.load(x)"
   ]
  },
  {
   "cell_type": "code",
   "execution_count": 10,
   "id": "80968de5-cc62-488b-9594-c222dd3c8e48",
   "metadata": {},
   "outputs": [],
   "source": [
    "cv= CountVectorizer(stop_words=custom_words, min_df=3, ngram_range=(1,2))\n",
    "cv.fit(X_train)\n",
    "X_train_cv= cv.transform(X_train)\n",
    "X_test_cv= cv.transform(X_test)"
   ]
  },
  {
   "cell_type": "code",
   "execution_count": 11,
   "id": "05384b3f-c52a-433e-90cc-eb0fc8a9f610",
   "metadata": {},
   "outputs": [
    {
     "data": {
      "text/plain": [
       "<bound method _BaseHeterogeneousEnsemble.get_params of VotingClassifier(estimators=[('lr', LogisticRegression()),\n",
       "                             ('etc', ExtraTreesClassifier()),\n",
       "                             ('rfc', RandomForestClassifier())],\n",
       "                 n_jobs=-1)>"
      ]
     },
     "execution_count": 11,
     "metadata": {},
     "output_type": "execute_result"
    }
   ],
   "source": [
    "vc1.get_params"
   ]
  },
  {
   "cell_type": "code",
   "execution_count": 12,
   "id": "9d5a2555-86f0-406b-a872-ee1227adba55",
   "metadata": {},
   "outputs": [],
   "source": [
    "params6={\n",
    "    'lr__C':[.5,1,10],\n",
    "    'lr__max_iter':[1000,10000],\n",
    "    'etc__n_estimators':[50,100,200],\n",
    "    'etc__max_depth':[None,3],\n",
    "    'rfc__n_estimators':[50,100,200],\n",
    "    'rfc__max_depth':[None,3]\n",
    "    \n",
    "}"
   ]
  },
  {
   "cell_type": "code",
   "execution_count": 13,
   "id": "14754a0e-70f1-4a2f-a131-55562bc7413f",
   "metadata": {},
   "outputs": [],
   "source": [
    "gs6= GridSearchCV(\n",
    "    vc1,\n",
    "    param_grid=params6,\n",
    "    n_jobs=-1\n",
    ")"
   ]
  },
  {
   "cell_type": "code",
   "execution_count": 14,
   "id": "8df446fb-8f93-431a-917a-c672a6cbe73a",
   "metadata": {},
   "outputs": [
    {
     "data": {
      "text/plain": [
       "GridSearchCV(estimator=VotingClassifier(estimators=[('lr',\n",
       "                                                     LogisticRegression()),\n",
       "                                                    ('etc',\n",
       "                                                     ExtraTreesClassifier()),\n",
       "                                                    ('rfc',\n",
       "                                                     RandomForestClassifier())],\n",
       "                                        n_jobs=-1),\n",
       "             n_jobs=-1,\n",
       "             param_grid={'etc__max_depth': [None, 3],\n",
       "                         'etc__n_estimators': [50, 100, 200],\n",
       "                         'lr__C': [0.5, 1, 10], 'lr__max_iter': [1000, 10000],\n",
       "                         'rfc__max_depth': [None, 3],\n",
       "                         'rfc__n_estimators': [50, 100, 200]})"
      ]
     },
     "execution_count": 14,
     "metadata": {},
     "output_type": "execute_result"
    }
   ],
   "source": [
    "gs6.fit(X_train_cv,y_train)"
   ]
  },
  {
   "cell_type": "code",
   "execution_count": 15,
   "id": "0cf80ab5-4ce7-40a4-825f-6b214be232e4",
   "metadata": {},
   "outputs": [
    {
     "data": {
      "text/plain": [
       "(0.9752486699051585, 0.9375433726578765)"
      ]
     },
     "execution_count": 15,
     "metadata": {},
     "output_type": "execute_result"
    }
   ],
   "source": [
    "gs6.score(X_train_cv,y_train), gs6.score(X_test_cv, y_test)"
   ]
  },
  {
   "cell_type": "code",
   "execution_count": 16,
   "id": "d12c69fc-edcb-4a1a-bfe1-ab2983f5e54f",
   "metadata": {},
   "outputs": [
    {
     "data": {
      "text/plain": [
       "VotingClassifier(estimators=[('lr', LogisticRegression(C=1, max_iter=1000)),\n",
       "                             ('etc', ExtraTreesClassifier(n_estimators=50)),\n",
       "                             ('rfc', RandomForestClassifier(n_estimators=200))],\n",
       "                 n_jobs=-1)"
      ]
     },
     "execution_count": 16,
     "metadata": {},
     "output_type": "execute_result"
    }
   ],
   "source": [
    "gs6.best_estimator_"
   ]
  },
  {
   "cell_type": "code",
   "execution_count": 112,
   "id": "bab57318-c0dc-452b-9588-cb6136c0622a",
   "metadata": {},
   "outputs": [
    {
     "data": {
      "image/png": "[encoded data removed]",
      "text/plain": [
       "<Figure size 432x288 with 1 Axes>"
      ]
     },
     "metadata": {
      "needs_background": "light"
     },
     "output_type": "display_data"
    }
   ],
   "source": [
    "ConfusionMatrixDisplay.from_estimator(gs6, X_test_cv, y_test, cmap='Blues', colorbar=False)\n",
    "plt.title('Voting Classifier Predictions');"
   ]
  },
  {
   "cell_type": "markdown",
   "id": "e3957035-cc74-42cf-8008-6c083977ece0",
   "metadata": {},
   "source": [
    "#### Pickling and exporting"
   ]
  },
  {
   "cell_type": "code",
   "execution_count": 117,
   "id": "45ae9d74-77db-4422-8327-67f9b040488c",
   "metadata": {},
   "outputs": [],
   "source": [
    "with open('./pickles/gs_lr.pkl', 'wb') as pickle_out:\n",
    "    pickle.dump(gs3, pickle_out)"
   ]
  },
  {
   "cell_type": "code",
   "execution_count": null,
   "id": "cda21973-fe26-45f6-8a91-2f5a0c4da4fe",
   "metadata": {},
   "outputs": [],
   "source": []
  }
 ],
 "metadata": {
  "kernelspec": {
   "display_name": "Python 3 (ipykernel)",
   "language": "python",
   "name": "python3"
  },
  "language_info": {
   "codemirror_mode": {
    "name": "ipython",
    "version": 3
   },
   "file_extension": ".py",
   "mimetype": "text/x-python",
   "name": "python",
   "nbconvert_exporter": "python",
   "pygments_lexer": "ipython3",
   "version": "3.9.7"
  }
 },
 "nbformat": 4,
 "nbformat_minor": 5
}
