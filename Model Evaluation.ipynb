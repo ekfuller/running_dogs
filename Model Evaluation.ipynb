{
 "cells": [
  {
   "cell_type": "markdown",
   "id": "7e333401-77b8-4920-a4d0-bb865b672dcb",
   "metadata": {},
   "source": [
    "### Evaluating the Logistic Regression Model"
   ]
  },
  {
   "cell_type": "markdown",
   "id": "e5447444-1396-4d39-9607-1bae2f681214",
   "metadata": {},
   "source": [
    "#### Import libraries, data and pickles"
   ]
  },
  {
   "cell_type": "code",
   "execution_count": 19,
   "id": "f5d03e15-cb35-4685-b5eb-503edb1d6050",
   "metadata": {},
   "outputs": [],
   "source": [
    "import pandas as pd\n",
    "import numpy as np\n",
    "import matplotlib.pyplot as plt\n",
    "import seaborn as sns\n",
    "import pickle\n",
    "import nltk\n",
    "\n",
    "from sklearn.feature_extraction.text import CountVectorizer\n",
    "from sklearn.model_selection import train_test_split, GridSearchCV\n",
    "from sklearn.preprocessing import StandardScaler\n",
    "from sklearn.linear_model import LogisticRegression\n",
    "from sklearn.pipeline import make_pipeline\n",
    "from sklearn.metrics import ConfusionMatrixDisplay, f1_score, precision_score, recall_score\n",
    "from sklearn.ensemble import RandomForestClassifier, ExtraTreesClassifier, VotingClassifier\n",
    "from sklearn.tree import DecisionTreeClassifier\n",
    "from sklearn.neighbors import KNeighborsClassifier\n",
    "from sklearn.naive_bayes import GaussianNB\n",
    "from sklearn.ensemble import AdaBoostClassifier, GradientBoostingClassifier"
   ]
  },
  {
   "cell_type": "code",
   "execution_count": 4,
   "id": "2dfe57e2-6c35-4192-b812-3b2b00bc00e7",
   "metadata": {},
   "outputs": [],
   "source": [
    "with open('./pickles/gs_lr.pkl', 'rb') as x:\n",
    "    gs_lr = pickle.load(x)"
   ]
  },
  {
   "cell_type": "code",
   "execution_count": 5,
   "id": "3e9a6eb5-be54-4c46-a21b-f7889f244ef8",
   "metadata": {},
   "outputs": [],
   "source": [
    "df= pd.read_csv('./data/cleaned_posts.csv')"
   ]
  },
  {
   "cell_type": "code",
   "execution_count": 6,
   "id": "a8e0288a-b19f-4b67-8166-c3250343397f",
   "metadata": {},
   "outputs": [],
   "source": [
    "X=df['selftext']\n",
    "y=df['subreddit']\n",
    "\n",
    "X_train, X_test, y_train, y_test = train_test_split(X,y, random_state=20, stratify=y)"
   ]
  },
  {
   "cell_type": "code",
   "execution_count": 7,
   "id": "3d36efdf-496a-48dc-8431-cce2e3b6c7bb",
   "metadata": {},
   "outputs": [
    {
     "data": {
      "image/png": "[encoded data removed]",
      "text/plain": [
       "<Figure size 432x288 with 1 Axes>"
      ]
     },
     "metadata": {
      "needs_background": "light"
     },
     "output_type": "display_data"
    }
   ],
   "source": [
    "ConfusionMatrixDisplay.from_estimator(gs_lr, X_test,y_test, cmap='Blues', colorbar=False);\n",
    "plt.title('Logistic regression predictions');"
   ]
  },
  {
   "cell_type": "markdown",
   "id": "d8d0159b-bff7-4b02-891d-b4c99956242a",
   "metadata": {},
   "source": [
    "#### Look at misclassified posts"
   ]
  },
  {
   "cell_type": "code",
   "execution_count": 9,
   "id": "0e087c78-8523-4ce8-a09a-4cc75d89352f",
   "metadata": {},
   "outputs": [],
   "source": [
    "lr_preds = gs_lr.predict(X_test)"
   ]
  },
  {
   "cell_type": "code",
   "execution_count": 10,
   "id": "3b9ab52d-7cfa-426c-a081-c097a1bbb29d",
   "metadata": {},
   "outputs": [],
   "source": [
    "misclass = X_test.copy()"
   ]
  },
  {
   "cell_type": "code",
   "execution_count": 11,
   "id": "b52a437b-6c9c-4a2c-a516-926d202ab80e",
   "metadata": {},
   "outputs": [],
   "source": [
    "misclass = pd.DataFrame(misclass)"
   ]
  },
  {
   "cell_type": "code",
   "execution_count": 12,
   "id": "cc425d09-d0b4-4cea-a680-3948679968a0",
   "metadata": {},
   "outputs": [],
   "source": [
    "misclass['pred_subreddit']= lr_preds"
   ]
  },
  {
   "cell_type": "code",
   "execution_count": 13,
   "id": "0d03ae5d-30de-4718-9737-f769d739a561",
   "metadata": {},
   "outputs": [],
   "source": [
    "misclass['true_subreddit']= y_test"
   ]
  },
  {
   "cell_type": "code",
   "execution_count": 26,
   "id": "169bdd93-93e8-4d28-9e4e-d111190f3c62",
   "metadata": {},
   "outputs": [
    {
     "data": {
      "text/html": [
       "<div>\n",
       "<style scoped>\n",
       "    .dataframe tbody tr th:only-of-type {\n",
       "        vertical-align: middle;\n",
       "    }\n",
       "\n",
       "    .dataframe tbody tr th {\n",
       "        vertical-align: top;\n",
       "    }\n",
       "\n",
       "    .dataframe thead th {\n",
       "        text-align: right;\n",
       "    }\n",
       "</style>\n",
       "<table border=\"1\" class=\"dataframe\">\n",
       "  <thead>\n",
       "    <tr style=\"text-align: right;\">\n",
       "      <th></th>\n",
       "      <th>selftext</th>\n",
       "      <th>pred_subreddit</th>\n",
       "      <th>true_subreddit</th>\n",
       "    </tr>\n",
       "  </thead>\n",
       "  <tbody>\n",
       "    <tr>\n",
       "      <th>1984</th>\n",
       "      <td>[removed]</td>\n",
       "      <td>running</td>\n",
       "      <td>Dogtraining</td>\n",
       "    </tr>\n",
       "    <tr>\n",
       "      <th>1287</th>\n",
       "      <td>It’s an useful command, but there is only a fe...</td>\n",
       "      <td>running</td>\n",
       "      <td>Dogtraining</td>\n",
       "    </tr>\n",
       "    <tr>\n",
       "      <th>1227</th>\n",
       "      <td>I thought I would come here because anyone who...</td>\n",
       "      <td>running</td>\n",
       "      <td>Dogtraining</td>\n",
       "    </tr>\n",
       "    <tr>\n",
       "      <th>271</th>\n",
       "      <td>[removed]</td>\n",
       "      <td>running</td>\n",
       "      <td>Dogtraining</td>\n",
       "    </tr>\n",
       "    <tr>\n",
       "      <th>2471</th>\n",
       "      <td>[removed]</td>\n",
       "      <td>running</td>\n",
       "      <td>Dogtraining</td>\n",
       "    </tr>\n",
       "    <tr>\n",
       "      <th>2260</th>\n",
       "      <td>[removed]</td>\n",
       "      <td>running</td>\n",
       "      <td>Dogtraining</td>\n",
       "    </tr>\n",
       "    <tr>\n",
       "      <th>2342</th>\n",
       "      <td>I want to transition from giving my puppy 3 me...</td>\n",
       "      <td>running</td>\n",
       "      <td>Dogtraining</td>\n",
       "    </tr>\n",
       "    <tr>\n",
       "      <th>1713</th>\n",
       "      <td>[removed]</td>\n",
       "      <td>running</td>\n",
       "      <td>Dogtraining</td>\n",
       "    </tr>\n",
       "    <tr>\n",
       "      <th>2237</th>\n",
       "      <td>Trying to begin scentwork with my dog and I wa...</td>\n",
       "      <td>running</td>\n",
       "      <td>Dogtraining</td>\n",
       "    </tr>\n",
       "    <tr>\n",
       "      <th>43</th>\n",
       "      <td>[removed]</td>\n",
       "      <td>running</td>\n",
       "      <td>Dogtraining</td>\n",
       "    </tr>\n",
       "  </tbody>\n",
       "</table>\n",
       "</div>"
      ],
      "text/plain": [
       "                                               selftext pred_subreddit  \\\n",
       "1984                                          [removed]        running   \n",
       "1287  It’s an useful command, but there is only a fe...        running   \n",
       "1227  I thought I would come here because anyone who...        running   \n",
       "271                                           [removed]        running   \n",
       "2471                                          [removed]        running   \n",
       "2260                                          [removed]        running   \n",
       "2342  I want to transition from giving my puppy 3 me...        running   \n",
       "1713                                          [removed]        running   \n",
       "2237  Trying to begin scentwork with my dog and I wa...        running   \n",
       "43                                            [removed]        running   \n",
       "\n",
       "     true_subreddit  \n",
       "1984    Dogtraining  \n",
       "1287    Dogtraining  \n",
       "1227    Dogtraining  \n",
       "271     Dogtraining  \n",
       "2471    Dogtraining  \n",
       "2260    Dogtraining  \n",
       "2342    Dogtraining  \n",
       "1713    Dogtraining  \n",
       "2237    Dogtraining  \n",
       "43      Dogtraining  "
      ]
     },
     "execution_count": 26,
     "metadata": {},
     "output_type": "execute_result"
    }
   ],
   "source": [
    "misclass[misclass['pred_subreddit']!= misclass['true_subreddit']].head(10)"
   ]
  },
  {
   "cell_type": "markdown",
   "id": "2d627237-4b32-4895-a7b8-8fca64d940e5",
   "metadata": {},
   "source": [
    "89 posts were misclassified"
   ]
  },
  {
   "cell_type": "code",
   "execution_count": 18,
   "id": "f3dd6f0d-ad38-452a-b064-968e51d8e0c8",
   "metadata": {},
   "outputs": [
    {
     "data": {
      "text/plain": [
       "[removed]    38\n",
       "Name: selftext, dtype: int64"
      ]
     },
     "execution_count": 18,
     "metadata": {},
     "output_type": "execute_result"
    }
   ],
   "source": [
    "misclass[misclass['pred_subreddit']!= misclass['true_subreddit']]['selftext'].value_counts().head(1)"
   ]
  },
  {
   "cell_type": "markdown",
   "id": "92d805c4-1c9a-4d56-9172-abaa58a556d2",
   "metadata": {},
   "source": [
    "Of the 89 misclassified posts, 38 had the text removed and replaced with [removed]. It makes sense that many of these would be misclassified as there is no information for the model to make a decision."
   ]
  },
  {
   "cell_type": "markdown",
   "id": "14ea3b34-5a0d-4176-9222-c823780147fa",
   "metadata": {},
   "source": [
    "#### Looking at the metrics"
   ]
  },
  {
   "cell_type": "code",
   "execution_count": 21,
   "id": "ee4cc8e7-6da5-4a81-89aa-4e122bdae758",
   "metadata": {},
   "outputs": [
    {
     "data": {
      "text/plain": [
       "0.9444097439100562"
      ]
     },
     "execution_count": 21,
     "metadata": {},
     "output_type": "execute_result"
    }
   ],
   "source": [
    "f1_score(np.where(y_test=='Dogtraining',0,1), np.where(lr_preds=='Dogtraining',0,1))"
   ]
  },
  {
   "cell_type": "code",
   "execution_count": 22,
   "id": "ba80ba3b-314a-4f66-89c7-64b2b50b0716",
   "metadata": {},
   "outputs": [
    {
     "data": {
      "text/plain": [
       "0.901072705601907"
      ]
     },
     "execution_count": 22,
     "metadata": {},
     "output_type": "execute_result"
    }
   ],
   "source": [
    "precision_score(np.where(y_test=='Dogtraining',0,1), np.where(lr_preds=='Dogtraining',0,1))"
   ]
  },
  {
   "cell_type": "code",
   "execution_count": 24,
   "id": "692a9885-cc04-405d-b3cd-eacb82085ddb",
   "metadata": {},
   "outputs": [
    {
     "data": {
      "text/plain": [
       "0.9921259842519685"
      ]
     },
     "execution_count": 24,
     "metadata": {},
     "output_type": "execute_result"
    }
   ],
   "source": [
    "recall_score(np.where(y_test=='Dogtraining',0,1), np.where(lr_preds=='Dogtraining',0,1))"
   ]
  },
  {
   "cell_type": "markdown",
   "id": "9d5f0042-f8c4-4a72-9dab-4fdbf2e9e557",
   "metadata": {},
   "source": [
    "The model performs very well across all metrics"
   ]
  },
  {
   "cell_type": "code",
   "execution_count": null,
   "id": "c07d5c94-9394-41e6-bb02-0391fe391eb7",
   "metadata": {},
   "outputs": [],
   "source": []
  }
 ],
 "metadata": {
  "kernelspec": {
   "display_name": "Python 3 (ipykernel)",
   "language": "python",
   "name": "python3"
  },
  "language_info": {
   "codemirror_mode": {
    "name": "ipython",
    "version": 3
   },
   "file_extension": ".py",
   "mimetype": "text/x-python",
   "name": "python",
   "nbconvert_exporter": "python",
   "pygments_lexer": "ipython3",
   "version": "3.9.7"
  }
 },
 "nbformat": 4,
 "nbformat_minor": 5
}
