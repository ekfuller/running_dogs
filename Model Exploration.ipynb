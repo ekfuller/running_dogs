{
 "cells": [
  {
   "cell_type": "code",
   "execution_count": 48,
   "id": "850ca3d1-41b1-43e1-a557-2bbc03e8e61f",
   "metadata": {},
   "outputs": [],
   "source": [
    "import pandas as pd\n",
    "import numpy as np\n",
    "import matplotlib.pyplot as plt\n",
    "import seaborn as sns\n",
    "import pickle\n",
    "\n",
    "from sklearn.feature_extraction.text import CountVectorizer\n",
    "from sklearn.model_selection import train_test_split, GridSearchCV\n",
    "from sklearn.preprocessing import StandardScaler\n",
    "from sklearn.linear_model import LogisticRegression\n",
    "from sklearn.pipeline import make_pipeline\n",
    "from sklearn.metrics import ConfusionMatrixDisplay\n",
    "from sklearn.ensemble import RandomForestClassifier, ExtraTreesClassifier, VotingClassifier\n",
    "from sklearn.tree import DecisionTreeClassifier, plot_tree\n",
    "from sklearn.neighbors import KNeighborsClassifier\n",
    "from sklearn.naive_bayes import GaussianNB\n",
    "from sklearn.ensemble import AdaBoostClassifier, GradientBoostingClassifier"
   ]
  },
  {
   "cell_type": "code",
   "execution_count": 2,
   "id": "b2d1b9b2-c7fd-42a4-95f2-7f3ca82f7131",
   "metadata": {},
   "outputs": [],
   "source": [
    "with open('./pickles/custom_words.pkl', 'rb') as x:\n",
    "    custom_words = pickle.load(x)"
   ]
  },
  {
   "cell_type": "code",
   "execution_count": 3,
   "id": "7332ff4c-99be-4edb-af1c-e73a89ad0eae",
   "metadata": {},
   "outputs": [],
   "source": [
    "df= pd.read_csv('./data/cleaned_posts.csv')"
   ]
  },
  {
   "cell_type": "code",
   "execution_count": 4,
   "id": "512e90b1-111c-4ac3-ae66-4bee8ac52b7c",
   "metadata": {},
   "outputs": [],
   "source": [
    "X=df['selftext']\n",
    "y=df['subreddit']\n",
    "\n",
    "X_train, X_test, y_train, y_test = train_test_split(X,y, random_state=20, stratify=y)"
   ]
  },
  {
   "cell_type": "markdown",
   "id": "782f3ee6-be0f-451d-80f6-ef477fcecd10",
   "metadata": {},
   "source": [
    "#### Logistic Regression"
   ]
  },
  {
   "cell_type": "code",
   "execution_count": 5,
   "id": "559562ab-af1e-4a0a-84b1-7e699c7d329d",
   "metadata": {},
   "outputs": [],
   "source": [
    "pipe_lr= make_pipeline(\n",
    "CountVectorizer(stop_words=custom_words),\n",
    "    LogisticRegression(max_iter=1000, random_state=20)\n",
    ")"
   ]
  },
  {
   "cell_type": "code",
   "execution_count": 6,
   "id": "a9a8a9be-e7e7-45e1-a226-e72975e71fbc",
   "metadata": {},
   "outputs": [
    {
     "data": {
      "text/plain": [
       "Pipeline(steps=[('countvectorizer',\n",
       "                 CountVectorizer(stop_words=['running', 'run', 'marathon',\n",
       "                                             'race', 'runs', 'ran', 'shoes',\n",
       "                                             'runner', 'runners', 'pain',\n",
       "                                             'miles', 'mile', 'track', 'post',\n",
       "                                             'treadmill', 'app', 'title',\n",
       "                                             'wondering', 'foot', 'pace',\n",
       "                                             'jogging', 'shoe', 'https',\n",
       "                                             'thread', 'curious', 'week', '5k',\n",
       "                                             'haven', 'body', 'atl', ...])),\n",
       "                ('logisticregression',\n",
       "                 LogisticRegression(max_iter=1000, random_state=20))])"
      ]
     },
     "execution_count": 6,
     "metadata": {},
     "output_type": "execute_result"
    }
   ],
   "source": [
    "pipe_lr.fit(X_train, y_train)"
   ]
  },
  {
   "cell_type": "code",
   "execution_count": 7,
   "id": "37256f7c-8c50-492a-a88f-295bfe5dba10",
   "metadata": {},
   "outputs": [
    {
     "data": {
      "text/plain": [
       "(0.972704140643072, 0.9403192227619709)"
      ]
     },
     "execution_count": 7,
     "metadata": {},
     "output_type": "execute_result"
    }
   ],
   "source": [
    "pipe_lr.score(X_train, y_train), pipe_lr.score(X_test, y_test)"
   ]
  },
  {
   "cell_type": "markdown",
   "id": "cb6ac8b1-ea26-49f2-976c-55feba4b2ee8",
   "metadata": {},
   "source": [
    "#### Random Forests"
   ]
  },
  {
   "cell_type": "code",
   "execution_count": 29,
   "id": "1fc9df26-c8de-4802-9190-5dcbdfc8b026",
   "metadata": {},
   "outputs": [],
   "source": [
    "pipe_rfc = make_pipeline(\n",
    "    CountVectorizer(stop_words=custom_words),\n",
    "    RandomForestClassifier(random_state=20)\n",
    ")"
   ]
  },
  {
   "cell_type": "code",
   "execution_count": 30,
   "id": "15e814bf-3dbf-4796-a44b-de54e2ce80d1",
   "metadata": {},
   "outputs": [
    {
     "data": {
      "text/plain": [
       "Pipeline(steps=[('countvectorizer',\n",
       "                 CountVectorizer(stop_words=['running', 'run', 'marathon',\n",
       "                                             'race', 'runs', 'ran', 'shoes',\n",
       "                                             'runner', 'runners', 'pain',\n",
       "                                             'miles', 'mile', 'track', 'post',\n",
       "                                             'treadmill', 'app', 'title',\n",
       "                                             'wondering', 'foot', 'pace',\n",
       "                                             'jogging', 'shoe', 'https',\n",
       "                                             'thread', 'curious', 'week', '5k',\n",
       "                                             'haven', 'body', 'atl', ...])),\n",
       "                ('randomforestclassifier',\n",
       "                 RandomForestClassifier(random_state=20))])"
      ]
     },
     "execution_count": 30,
     "metadata": {},
     "output_type": "execute_result"
    }
   ],
   "source": [
    "pipe_rfc.fit(X_train, y_train)"
   ]
  },
  {
   "cell_type": "code",
   "execution_count": 31,
   "id": "e9c302bc-c0ff-45ea-aeca-f6eebfb06356",
   "metadata": {},
   "outputs": [
    {
     "data": {
      "text/plain": [
       "(0.9752486699051585, 0.9306037473976405)"
      ]
     },
     "execution_count": 31,
     "metadata": {},
     "output_type": "execute_result"
    }
   ],
   "source": [
    "pipe_rfc.score(X_train, y_train), pipe_rfc.score(X_test, y_test)"
   ]
  },
  {
   "cell_type": "markdown",
   "id": "87b72bdc-5b39-45f1-bde7-dff36040126f",
   "metadata": {},
   "source": [
    "#### Decision Trees"
   ]
  },
  {
   "cell_type": "code",
   "execution_count": 11,
   "id": "6f57e901-6c10-49ef-a134-36a3a84e84f5",
   "metadata": {},
   "outputs": [],
   "source": [
    "pipe_dtc = make_pipeline(\n",
    "    CountVectorizer(stop_words=custom_words),\n",
    "    DecisionTreeClassifier()\n",
    ")"
   ]
  },
  {
   "cell_type": "code",
   "execution_count": 12,
   "id": "ab530d88-7193-4e51-be12-45f446ea10a4",
   "metadata": {},
   "outputs": [
    {
     "data": {
      "text/plain": [
       "Pipeline(steps=[('countvectorizer',\n",
       "                 CountVectorizer(stop_words=['running', 'run', 'marathon',\n",
       "                                             'race', 'runs', 'ran', 'shoes',\n",
       "                                             'runner', 'runners', 'pain',\n",
       "                                             'miles', 'mile', 'track', 'post',\n",
       "                                             'treadmill', 'app', 'title',\n",
       "                                             'wondering', 'foot', 'pace',\n",
       "                                             'jogging', 'shoe', 'https',\n",
       "                                             'thread', 'curious', 'week', '5k',\n",
       "                                             'haven', 'body', 'atl', ...])),\n",
       "                ('decisiontreeclassifier', DecisionTreeClassifier())])"
      ]
     },
     "execution_count": 12,
     "metadata": {},
     "output_type": "execute_result"
    }
   ],
   "source": [
    "pipe_dtc.fit(X_train, y_train)"
   ]
  },
  {
   "cell_type": "code",
   "execution_count": 13,
   "id": "ef230795-38ab-4063-8134-5a16d0dbdd40",
   "metadata": {},
   "outputs": [
    {
     "data": {
      "text/plain": [
       "(0.9752486699051585, 0.9139486467730743)"
      ]
     },
     "execution_count": 13,
     "metadata": {},
     "output_type": "execute_result"
    }
   ],
   "source": [
    "pipe_dtc.score(X_train, y_train), pipe_dtc.score(X_test, y_test)"
   ]
  },
  {
   "cell_type": "markdown",
   "id": "b9c5956e-86e4-4ce5-b0da-61de43c848d2",
   "metadata": {},
   "source": [
    "#### Extra Trees"
   ]
  },
  {
   "cell_type": "code",
   "execution_count": 32,
   "id": "08e094e7-8f82-42ce-8e7f-721e48d47785",
   "metadata": {},
   "outputs": [],
   "source": [
    "pipe_etc = make_pipeline(\n",
    "    CountVectorizer(stop_words=custom_words),\n",
    "    ExtraTreesClassifier(random_state=20)\n",
    ")"
   ]
  },
  {
   "cell_type": "code",
   "execution_count": 33,
   "id": "92ccd199-8ace-4ddc-9fff-82ea4fba56d5",
   "metadata": {},
   "outputs": [
    {
     "data": {
      "text/plain": [
       "Pipeline(steps=[('countvectorizer',\n",
       "                 CountVectorizer(stop_words=['running', 'run', 'marathon',\n",
       "                                             'race', 'runs', 'ran', 'shoes',\n",
       "                                             'runner', 'runners', 'pain',\n",
       "                                             'miles', 'mile', 'track', 'post',\n",
       "                                             'treadmill', 'app', 'title',\n",
       "                                             'wondering', 'foot', 'pace',\n",
       "                                             'jogging', 'shoe', 'https',\n",
       "                                             'thread', 'curious', 'week', '5k',\n",
       "                                             'haven', 'body', 'atl', ...])),\n",
       "                ('extratreesclassifier',\n",
       "                 ExtraTreesClassifier(random_state=20))])"
      ]
     },
     "execution_count": 33,
     "metadata": {},
     "output_type": "execute_result"
    }
   ],
   "source": [
    "pipe_etc.fit(X_train, y_train)"
   ]
  },
  {
   "cell_type": "code",
   "execution_count": 16,
   "id": "763bed52-9dbc-4185-9cc8-3bf10bdbaac0",
   "metadata": {},
   "outputs": [
    {
     "data": {
      "text/plain": [
       "(0.9752486699051585, 0.9354614850798056)"
      ]
     },
     "execution_count": 16,
     "metadata": {},
     "output_type": "execute_result"
    }
   ],
   "source": [
    "pipe_etc.score(X_train, y_train), pipe_etc.score(X_test, y_test)"
   ]
  },
  {
   "cell_type": "markdown",
   "id": "e6fc4bf6-40e3-40ed-aee1-44075351eeaf",
   "metadata": {},
   "source": [
    "#### K Nearest Neighbors"
   ]
  },
  {
   "cell_type": "code",
   "execution_count": 17,
   "id": "8ff37fba-fc6d-42bc-96cf-e4149d6d6687",
   "metadata": {},
   "outputs": [],
   "source": [
    "pipe_knn = make_pipeline(\n",
    "    CountVectorizer(stop_words=custom_words),\n",
    "    KNeighborsClassifier()\n",
    ")"
   ]
  },
  {
   "cell_type": "code",
   "execution_count": 18,
   "id": "bfc0692c-d554-4ab4-8c86-5bf1fde99dda",
   "metadata": {},
   "outputs": [
    {
     "data": {
      "text/plain": [
       "Pipeline(steps=[('countvectorizer',\n",
       "                 CountVectorizer(stop_words=['running', 'run', 'marathon',\n",
       "                                             'race', 'runs', 'ran', 'shoes',\n",
       "                                             'runner', 'runners', 'pain',\n",
       "                                             'miles', 'mile', 'track', 'post',\n",
       "                                             'treadmill', 'app', 'title',\n",
       "                                             'wondering', 'foot', 'pace',\n",
       "                                             'jogging', 'shoe', 'https',\n",
       "                                             'thread', 'curious', 'week', '5k',\n",
       "                                             'haven', 'body', 'atl', ...])),\n",
       "                ('kneighborsclassifier', KNeighborsClassifier())])"
      ]
     },
     "execution_count": 18,
     "metadata": {},
     "output_type": "execute_result"
    }
   ],
   "source": [
    "pipe_knn.fit(X_train, y_train)"
   ]
  },
  {
   "cell_type": "code",
   "execution_count": 19,
   "id": "213c157c-33a1-4e9c-82bc-d981e7256d22",
   "metadata": {},
   "outputs": [
    {
     "data": {
      "text/plain": [
       "(0.9044644922507518, 0.8660652324774463)"
      ]
     },
     "execution_count": 19,
     "metadata": {},
     "output_type": "execute_result"
    }
   ],
   "source": [
    "pipe_knn.score(X_train,y_train), pipe_knn.score(X_test,y_test)"
   ]
  },
  {
   "cell_type": "markdown",
   "id": "b8309e53-1926-45df-8379-0a42a489d31e",
   "metadata": {},
   "source": [
    "#### Naive Bayes\n",
    "\n"
   ]
  },
  {
   "cell_type": "code",
   "execution_count": 22,
   "id": "21c13fca-9d79-4421-8182-04616fe8db6d",
   "metadata": {},
   "outputs": [
    {
     "data": {
      "text/plain": [
       "GaussianNB()"
      ]
     },
     "execution_count": 22,
     "metadata": {},
     "output_type": "execute_result"
    }
   ],
   "source": [
    "nb = GaussianNB()\n",
    "nb.fit(X_train_cv.A, y_train)"
   ]
  },
  {
   "cell_type": "code",
   "execution_count": 23,
   "id": "c6023c64-8e59-41fb-8175-1efdd33fd15f",
   "metadata": {},
   "outputs": [
    {
     "data": {
      "text/plain": [
       "(0.885264862364099, 0.8147120055517002)"
      ]
     },
     "execution_count": 23,
     "metadata": {},
     "output_type": "execute_result"
    }
   ],
   "source": [
    "nb.score(X_train_cv.A, y_train), nb.score(X_test_cv.A, y_test)"
   ]
  },
  {
   "cell_type": "markdown",
   "id": "7459a729-0d21-43e3-b135-f11cec9bef94",
   "metadata": {},
   "source": [
    "#### Voting Classifier"
   ]
  },
  {
   "cell_type": "code",
   "execution_count": 21,
   "id": "91639547-6d58-4c74-822e-b22157dea3ee",
   "metadata": {},
   "outputs": [],
   "source": [
    "cv= CountVectorizer(stop_words=custom_words)\n",
    "cv.fit(X_train)\n",
    "X_train_cv= cv.transform(X_train)\n",
    "X_test_cv= cv.transform(X_test)"
   ]
  },
  {
   "cell_type": "code",
   "execution_count": 34,
   "id": "3b938674-31f1-447e-921c-fe7804f27ed4",
   "metadata": {},
   "outputs": [],
   "source": [
    "vc1 = VotingClassifier(\n",
    "    [\n",
    "        ('lr',LogisticRegression(random_state=20)),\n",
    "        ('etc',ExtraTreesClassifier(random_state=20)),\n",
    "        ('rfc', RandomForestClassifier(random_state=20))\n",
    "    ],\n",
    "    n_jobs=-1\n",
    "    \n",
    ")"
   ]
  },
  {
   "cell_type": "code",
   "execution_count": 35,
   "id": "c6d1edfe-5303-4eb8-a7ed-4264b0a3a18a",
   "metadata": {},
   "outputs": [
    {
     "data": {
      "text/plain": [
       "VotingClassifier(estimators=[('lr', LogisticRegression(random_state=20)),\n",
       "                             ('etc', ExtraTreesClassifier(random_state=20)),\n",
       "                             ('rfc', RandomForestClassifier(random_state=20))],\n",
       "                 n_jobs=-1)"
      ]
     },
     "execution_count": 35,
     "metadata": {},
     "output_type": "execute_result"
    }
   ],
   "source": [
    "vc1.fit(X_train_cv,y_train)"
   ]
  },
  {
   "cell_type": "code",
   "execution_count": 36,
   "id": "b18638f3-0eb7-490f-8849-0da1c8f73117",
   "metadata": {},
   "outputs": [
    {
     "data": {
      "text/plain": [
       "(0.9752486699051585, 0.9424011103400416)"
      ]
     },
     "execution_count": 36,
     "metadata": {},
     "output_type": "execute_result"
    }
   ],
   "source": [
    "vc1.score(X_train_cv, y_train), vc1.score(X_test_cv, y_test)"
   ]
  },
  {
   "cell_type": "markdown",
   "id": "67da3f7e-1fa3-49b8-a86c-94dd8ca8eee0",
   "metadata": {
    "tags": []
   },
   "source": [
    "#### Boosting"
   ]
  },
  {
   "cell_type": "markdown",
   "id": "515e78cd-7c95-44cf-920c-bdf321e520d7",
   "metadata": {},
   "source": [
    "#### Ada Boost"
   ]
  },
  {
   "cell_type": "code",
   "execution_count": 52,
   "id": "b68f0e1a-30db-42c8-ba3b-191f88a93e09",
   "metadata": {},
   "outputs": [
    {
     "data": {
      "text/plain": [
       "(0.9403192227619709, 0.9312977099236641)"
      ]
     },
     "execution_count": 52,
     "metadata": {},
     "output_type": "execute_result"
    }
   ],
   "source": [
    "from sklearn.ensemble import AdaBoostClassifier\n",
    "\n",
    "pipe_abc = make_pipeline(\n",
    "    CountVectorizer(stop_words=custom_words),\n",
    "    AdaBoostClassifier()\n",
    ")\n",
    "\n",
    "pipe_abc.fit(X_train,y_train)\n",
    "\n",
    "pipe_abc.score(X_train,y_train), pipe_abc.score(X_test,y_test)"
   ]
  },
  {
   "cell_type": "markdown",
   "id": "06f2a099-1fd9-45a5-b67f-0be93980ad7f",
   "metadata": {},
   "source": [
    "#### Gradient Boost"
   ]
  },
  {
   "cell_type": "code",
   "execution_count": 49,
   "id": "b0210ff1-fd92-4190-a251-349b0b381ee3",
   "metadata": {},
   "outputs": [
    {
     "data": {
      "text/plain": [
       "(0.936618089289845, 0.9278278972935462)"
      ]
     },
     "execution_count": 49,
     "metadata": {},
     "output_type": "execute_result"
    }
   ],
   "source": [
    "pipe_gbc = make_pipeline(\n",
    "    CountVectorizer(stop_words=custom_words),\n",
    "    GradientBoostingClassifier()\n",
    ")\n",
    "\n",
    "pipe_gbc.fit(X_train,y_train)\n",
    "pipe_gbc.score(X_train,y_train), pipe_gbc.score(X_test,y_test)"
   ]
  },
  {
   "cell_type": "markdown",
   "id": "73517d72-55de-42d9-b0c0-210863bda32d",
   "metadata": {},
   "source": [
    "#### Pickling & Exporting for later use"
   ]
  },
  {
   "cell_type": "code",
   "execution_count": 37,
   "id": "5637fc13-b415-4298-9c50-cc2ce31565f0",
   "metadata": {},
   "outputs": [],
   "source": [
    "with open('./pickles/pipe_lr.pkl', 'wb') as pickle_out:\n",
    "    pickle.dump(pipe_lr, pickle_out)"
   ]
  },
  {
   "cell_type": "code",
   "execution_count": 38,
   "id": "74df159b-e1f1-4316-903e-8d258a61a623",
   "metadata": {},
   "outputs": [],
   "source": [
    "with open('./pickles/pipe_rfc.pkl', 'wb') as pickle_out:\n",
    "    pickle.dump(pipe_rfc, pickle_out)"
   ]
  },
  {
   "cell_type": "code",
   "execution_count": 39,
   "id": "be9cf226-a9bc-423d-9d17-6356da480f1c",
   "metadata": {},
   "outputs": [],
   "source": [
    "with open('./pickles/pipe_dtc.pkl', 'wb') as pickle_out:\n",
    "    pickle.dump(pipe_dtc, pickle_out)"
   ]
  },
  {
   "cell_type": "code",
   "execution_count": 40,
   "id": "99863f71-15fd-46ba-8bda-9d6e7fb2bca4",
   "metadata": {},
   "outputs": [],
   "source": [
    "with open('./pickles/pipe_etc.pkl', 'wb') as pickle_out:\n",
    "    pickle.dump(pipe_etc, pickle_out)"
   ]
  },
  {
   "cell_type": "code",
   "execution_count": 41,
   "id": "847da6a3-f666-4032-b948-b65bc7ca513f",
   "metadata": {},
   "outputs": [],
   "source": [
    "with open('./pickles/pipe_knn.pkl', 'wb') as pickle_out:\n",
    "    pickle.dump(pipe_knn, pickle_out)"
   ]
  },
  {
   "cell_type": "code",
   "execution_count": 42,
   "id": "cdb85c79-28de-4bc5-a21f-9f53ab325b9b",
   "metadata": {},
   "outputs": [],
   "source": [
    "with open('./pickles/vc1.pkl', 'wb') as pickle_out:\n",
    "    pickle.dump(vc1, pickle_out)"
   ]
  },
  {
   "cell_type": "code",
   "execution_count": 50,
   "id": "39a54b8c-4249-4064-be96-74e9b32cbb5b",
   "metadata": {},
   "outputs": [],
   "source": [
    "with open('./pickles/pipe_abc.pkl', 'wb') as pickle_out:\n",
    "    pickle.dump(pipe_abc, pickle_out)"
   ]
  },
  {
   "cell_type": "code",
   "execution_count": 51,
   "id": "de1e31c6-e653-4646-a6f3-1ebca91f4ae7",
   "metadata": {},
   "outputs": [],
   "source": [
    "with open('./pickles/pipe_gbc.pkl', 'wb') as pickle_out:\n",
    "    pickle.dump(pipe_gbc, pickle_out)"
   ]
  },
  {
   "cell_type": "code",
   "execution_count": null,
   "id": "960af7f3-8b90-4f96-bd3f-e137611e38c2",
   "metadata": {},
   "outputs": [],
   "source": []
  }
 ],
 "metadata": {
  "kernelspec": {
   "display_name": "Python 3 (ipykernel)",
   "language": "python",
   "name": "python3"
  },
  "language_info": {
   "codemirror_mode": {
    "name": "ipython",
    "version": 3
   },
   "file_extension": ".py",
   "mimetype": "text/x-python",
   "name": "python",
   "nbconvert_exporter": "python",
   "pygments_lexer": "ipython3",
   "version": "3.9.7"
  }
 },
 "nbformat": 4,
 "nbformat_minor": 5
}
