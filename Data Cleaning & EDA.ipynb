{
 "cells": [
  {
   "cell_type": "code",
   "execution_count": 1,
   "id": "994023f7-80cf-4a8d-94ee-92fa60f57fb1",
   "metadata": {},
   "outputs": [],
   "source": [
    "import pandas as pd\n",
    "import numpy as np\n",
    "import matplotlib.pyplot as plt\n",
    "import seaborn as sns\n",
    "import pickle\n",
    "\n",
    "from sklearn.feature_extraction.text import CountVectorizer\n",
    "from sklearn.model_selection import train_test_split, GridSearchCV\n",
    "from sklearn.preprocessing import StandardScaler\n",
    "from sklearn.linear_model import LogisticRegression\n",
    "from sklearn.pipeline import make_pipeline\n",
    "from sklearn.metrics import ConfusionMatrixDisplay"
   ]
  },
  {
   "cell_type": "code",
   "execution_count": 2,
   "id": "c1e3f625-daaf-4f05-a692-c3e3dfdf1314",
   "metadata": {},
   "outputs": [],
   "source": [
    "df= pd.read_csv('data/raw_posts.csv')"
   ]
  },
  {
   "cell_type": "code",
   "execution_count": 3,
   "id": "d734d55e-f66e-4915-a8d1-8e3b24e20eb3",
   "metadata": {},
   "outputs": [
    {
     "data": {
      "text/plain": [
       "subreddit        0\n",
       "title            0\n",
       "selftext       336\n",
       "created_utc      0\n",
       "dtype: int64"
      ]
     },
     "execution_count": 3,
     "metadata": {},
     "output_type": "execute_result"
    }
   ],
   "source": [
    "df.isnull().sum()"
   ]
  },
  {
   "cell_type": "code",
   "execution_count": 4,
   "id": "e53551ca-2c63-4d43-956c-e90acc31c70d",
   "metadata": {},
   "outputs": [],
   "source": [
    "df.dropna(subset=['selftext'], inplace=True)"
   ]
  },
  {
   "cell_type": "code",
   "execution_count": 5,
   "id": "ad74faf4-6e4f-4835-9349-05460dfbeaa2",
   "metadata": {},
   "outputs": [],
   "source": [
    "df['subreddit_id'] = df['subreddit']"
   ]
  },
  {
   "cell_type": "markdown",
   "id": "55382846-ad61-4787-9d90-ba7ab627106e",
   "metadata": {},
   "source": [
    "#### What are the most common words in each subreddit?"
   ]
  },
  {
   "cell_type": "code",
   "execution_count": 6,
   "id": "7d5302f9-ba6c-462e-b3d2-e4284ec228d5",
   "metadata": {},
   "outputs": [
    {
     "data": {
      "text/html": [
       "<div>\n",
       "<style scoped>\n",
       "    .dataframe tbody tr th:only-of-type {\n",
       "        vertical-align: middle;\n",
       "    }\n",
       "\n",
       "    .dataframe tbody tr th {\n",
       "        vertical-align: top;\n",
       "    }\n",
       "\n",
       "    .dataframe thead th {\n",
       "        text-align: right;\n",
       "    }\n",
       "</style>\n",
       "<table border=\"1\" class=\"dataframe\">\n",
       "  <thead>\n",
       "    <tr style=\"text-align: right;\">\n",
       "      <th></th>\n",
       "      <th>00</th>\n",
       "      <th>000</th>\n",
       "      <th>000184085681</th>\n",
       "      <th>000ft</th>\n",
       "      <th>000km</th>\n",
       "      <th>000lbs</th>\n",
       "      <th>008m</th>\n",
       "      <th>00am</th>\n",
       "      <th>00km</th>\n",
       "      <th>00min</th>\n",
       "      <th>...</th>\n",
       "      <th>zones</th>\n",
       "      <th>zoom</th>\n",
       "      <th>zoomies</th>\n",
       "      <th>zooming</th>\n",
       "      <th>zooms</th>\n",
       "      <th>zoomx</th>\n",
       "      <th>zoooooooom</th>\n",
       "      <th>zorro</th>\n",
       "      <th>zwift</th>\n",
       "      <th>zylkene</th>\n",
       "    </tr>\n",
       "  </thead>\n",
       "  <tbody>\n",
       "    <tr>\n",
       "      <th>0</th>\n",
       "      <td>0</td>\n",
       "      <td>0</td>\n",
       "      <td>0</td>\n",
       "      <td>0</td>\n",
       "      <td>0</td>\n",
       "      <td>0</td>\n",
       "      <td>0</td>\n",
       "      <td>0</td>\n",
       "      <td>0</td>\n",
       "      <td>0</td>\n",
       "      <td>...</td>\n",
       "      <td>0</td>\n",
       "      <td>0</td>\n",
       "      <td>0</td>\n",
       "      <td>0</td>\n",
       "      <td>0</td>\n",
       "      <td>0</td>\n",
       "      <td>0</td>\n",
       "      <td>0</td>\n",
       "      <td>0</td>\n",
       "      <td>0</td>\n",
       "    </tr>\n",
       "    <tr>\n",
       "      <th>1</th>\n",
       "      <td>0</td>\n",
       "      <td>0</td>\n",
       "      <td>0</td>\n",
       "      <td>0</td>\n",
       "      <td>0</td>\n",
       "      <td>0</td>\n",
       "      <td>0</td>\n",
       "      <td>0</td>\n",
       "      <td>0</td>\n",
       "      <td>0</td>\n",
       "      <td>...</td>\n",
       "      <td>0</td>\n",
       "      <td>0</td>\n",
       "      <td>0</td>\n",
       "      <td>0</td>\n",
       "      <td>0</td>\n",
       "      <td>0</td>\n",
       "      <td>0</td>\n",
       "      <td>0</td>\n",
       "      <td>0</td>\n",
       "      <td>0</td>\n",
       "    </tr>\n",
       "  </tbody>\n",
       "</table>\n",
       "<p>2 rows × 19171 columns</p>\n",
       "</div>"
      ],
      "text/plain": [
       "   00  000  000184085681  000ft  000km  000lbs  008m  00am  00km  00min  ...  \\\n",
       "0   0    0             0      0      0       0     0     0     0      0  ...   \n",
       "1   0    0             0      0      0       0     0     0     0      0  ...   \n",
       "\n",
       "   zones  zoom  zoomies  zooming  zooms  zoomx  zoooooooom  zorro  zwift  \\\n",
       "0      0     0        0        0      0      0           0      0      0   \n",
       "1      0     0        0        0      0      0           0      0      0   \n",
       "\n",
       "   zylkene  \n",
       "0        0  \n",
       "1        0  \n",
       "\n",
       "[2 rows x 19171 columns]"
      ]
     },
     "execution_count": 6,
     "metadata": {},
     "output_type": "execute_result"
    }
   ],
   "source": [
    "cv= CountVectorizer(stop_words='english')\n",
    "data = cv.fit_transform(df['selftext'])\n",
    "df_cv= pd.DataFrame(data.A, columns=cv.get_feature_names_out())\n",
    "df_cv.head(2)"
   ]
  },
  {
   "cell_type": "code",
   "execution_count": 7,
   "id": "40301de6-d561-4184-93f6-41ae80d8a39d",
   "metadata": {},
   "outputs": [
    {
     "data": {
      "text/plain": [
       "dog         4976\n",
       "just        4221\n",
       "run         3338\n",
       "running     3292\n",
       "time        3189\n",
       "like        3067\n",
       "ve          3053\n",
       "training    2560\n",
       "dogs        2054\n",
       "really      1916\n",
       "old         1867\n",
       "don         1795\n",
       "week        1687\n",
       "day         1678\n",
       "know        1667\n",
       "race        1642\n",
       "want        1552\n",
       "got         1530\n",
       "started     1400\n",
       "year        1308\n",
       "going       1302\n",
       "marathon    1286\n",
       "long        1235\n",
       "good        1228\n",
       "miles       1209\n",
       "dtype: int64"
      ]
     },
     "execution_count": 7,
     "metadata": {},
     "output_type": "execute_result"
    }
   ],
   "source": [
    "df_cv.sum().sort_values(ascending=False).head(25)"
   ]
  },
  {
   "cell_type": "code",
   "execution_count": 8,
   "id": "52b6d608-3618-44be-9439-e31992267742",
   "metadata": {},
   "outputs": [
    {
     "data": {
      "image/png": "[encoded data removed]",
      "text/plain": [
       "<Figure size 432x288 with 1 Axes>"
      ]
     },
     "metadata": {
      "needs_background": "light"
     },
     "output_type": "display_data"
    }
   ],
   "source": [
    "df_cv.sum().sort_values(ascending=False).head(10).plot(kind='bar')\n",
    "plt.title('Top 10 most frequently used words')\n",
    "plt.xlabel('Words')\n",
    "plt.ylabel('Word usage (count)');"
   ]
  },
  {
   "cell_type": "markdown",
   "id": "384e13dc-3fa4-4722-9eb6-34590851d899",
   "metadata": {},
   "source": [
    "#### Split Data into train and test"
   ]
  },
  {
   "cell_type": "code",
   "execution_count": 9,
   "id": "cb2a83ea-6edf-4f03-a3a0-605dccc2e08a",
   "metadata": {},
   "outputs": [],
   "source": [
    "X=df['selftext']\n",
    "y=df['subreddit']\n",
    "\n",
    "X_train, X_test, y_train, y_test = train_test_split(X,y, random_state=20, stratify=y)"
   ]
  },
  {
   "cell_type": "markdown",
   "id": "e603ff1b-7e4d-4236-9370-5d3a0ea82045",
   "metadata": {},
   "source": [
    "#### Establish a baseline model and determine what are the most impactful words?"
   ]
  },
  {
   "cell_type": "code",
   "execution_count": 10,
   "id": "b7f9270d-d422-42ba-adc2-bd27544e38e1",
   "metadata": {},
   "outputs": [
    {
     "data": {
      "text/plain": [
       "CountVectorizer(stop_words='english')"
      ]
     },
     "execution_count": 10,
     "metadata": {},
     "output_type": "execute_result"
    }
   ],
   "source": [
    "cv=CountVectorizer(stop_words='english')\n",
    "cv.fit(X_train)"
   ]
  },
  {
   "cell_type": "code",
   "execution_count": 11,
   "id": "30116a17-232a-42d2-b69d-77da82b47f2e",
   "metadata": {},
   "outputs": [],
   "source": [
    "X_train_cv= cv.transform(X_train)\n",
    "X_test_cv= cv.transform(X_test)"
   ]
  },
  {
   "cell_type": "code",
   "execution_count": 12,
   "id": "f113680b-0068-4ef5-a9b7-e9e6c5805d60",
   "metadata": {},
   "outputs": [
    {
     "data": {
      "text/plain": [
       "LogisticRegression()"
      ]
     },
     "execution_count": 12,
     "metadata": {},
     "output_type": "execute_result"
    }
   ],
   "source": [
    "lr = LogisticRegression()\n",
    "lr.fit(X_train_cv, y_train)"
   ]
  },
  {
   "cell_type": "code",
   "execution_count": 13,
   "id": "3ef8f036-1838-494e-91b2-231c3e1283ed",
   "metadata": {},
   "outputs": [
    {
     "data": {
      "text/plain": [
       "(0.9729354614850798, 0.9569743233865371)"
      ]
     },
     "execution_count": 13,
     "metadata": {},
     "output_type": "execute_result"
    }
   ],
   "source": [
    "lr.score(X_train_cv, y_train), lr.score(X_test_cv, y_test)"
   ]
  },
  {
   "cell_type": "code",
   "execution_count": 14,
   "id": "94a045db-02a7-455f-9513-3c02f3e0e01d",
   "metadata": {},
   "outputs": [],
   "source": [
    "preds= lr.predict(X_train_cv)"
   ]
  },
  {
   "cell_type": "code",
   "execution_count": 15,
   "id": "c8dc2cde-37a4-4738-8ae3-a25a53265f67",
   "metadata": {},
   "outputs": [
    {
     "data": {
      "image/png": "[encoded data removed]",
      "text/plain": [
       "<Figure size 432x288 with 1 Axes>"
      ]
     },
     "metadata": {
      "needs_background": "light"
     },
     "output_type": "display_data"
    }
   ],
   "source": [
    "ConfusionMatrixDisplay.from_estimator(lr, X_test_cv, y_test, cmap='Blues', colorbar=False)\n",
    "plt.title('Logistic Regression Predictions');"
   ]
  },
  {
   "cell_type": "code",
   "execution_count": 16,
   "id": "595c085e-e72c-4ac9-ab4d-00d9016b9921",
   "metadata": {},
   "outputs": [],
   "source": [
    "cv_df= pd.DataFrame(X_train_cv.A, columns= cv.get_feature_names_out())"
   ]
  },
  {
   "cell_type": "code",
   "execution_count": 17,
   "id": "ac5ba9e6-b8f6-4ea7-9f48-990f828acb98",
   "metadata": {},
   "outputs": [
    {
     "data": {
      "text/plain": [
       "dog         3746\n",
       "just        3130\n",
       "run         2533\n",
       "running     2491\n",
       "time        2388\n",
       "like        2297\n",
       "ve          2256\n",
       "training    1929\n",
       "really      1476\n",
       "dogs        1476\n",
       "old         1412\n",
       "don         1341\n",
       "race        1334\n",
       "week        1319\n",
       "know        1273\n",
       "dtype: int64"
      ]
     },
     "execution_count": 17,
     "metadata": {},
     "output_type": "execute_result"
    }
   ],
   "source": [
    "cv_df.sum().sort_values(ascending=False).head(15)"
   ]
  },
  {
   "cell_type": "code",
   "execution_count": 18,
   "id": "7ea0f441-1689-4fa0-b748-b9eacc4bc72e",
   "metadata": {},
   "outputs": [],
   "source": [
    "coef_df=pd.DataFrame(lr.coef_[0], index= cv.get_feature_names_out(), columns=['coef_score'])"
   ]
  },
  {
   "cell_type": "code",
   "execution_count": 19,
   "id": "bae477c3-8438-4337-9dbf-59b0f927ccc7",
   "metadata": {},
   "outputs": [
    {
     "data": {
      "text/plain": [
       "Index(['running', 'run', 'marathon', 'race', 'runs', 'ran', 'shoes', 'runner',\n",
       "       'runners', 'pain', 'miles', 'mile', 'track', 'post', 'treadmill', 'app',\n",
       "       'title', 'wondering', 'foot', 'pace', 'jogging', 'shoe', 'https',\n",
       "       'thread', 'curious', 'week', '5k', 'haven', 'body', 'atl', 'half',\n",
       "       'hill', 'fast', 'feel', 'live', 'achievement', 'ankle', 'pair',\n",
       "       'school', 'jog'],\n",
       "      dtype='object')"
      ]
     },
     "execution_count": 19,
     "metadata": {},
     "output_type": "execute_result"
    }
   ],
   "source": [
    "coef_df.sort_values(by='coef_score', ascending=False).head(40).index"
   ]
  },
  {
   "cell_type": "code",
   "execution_count": 20,
   "id": "b5e14d1e-096d-483d-883c-42ca94cf91e8",
   "metadata": {},
   "outputs": [
    {
     "data": {
      "text/plain": [
       "Index(['outside', 'vet', 'bothering', 'close', 'sit', 'doesn', 'advise', 'pet',\n",
       "       'pee', 'barking', 'away', 'barks', 'explain', 'toys', 'boy', 'say',\n",
       "       'teach', 'gsd', 'behavior', 'potty', 'tips', 'loves', 'trainer',\n",
       "       'leave', 'collar', 'food', 'house', 'treats', 'play', 'gets', 'train',\n",
       "       'crate', 'treat', 'help', 'leash', 'dogs', 'pup', 'puppy', 'old',\n",
       "       'dog'],\n",
       "      dtype='object')"
      ]
     },
     "execution_count": 20,
     "metadata": {},
     "output_type": "execute_result"
    }
   ],
   "source": [
    "coef_df.sort_values(by='coef_score', ascending=False).tail(40).index"
   ]
  },
  {
   "cell_type": "code",
   "execution_count": 21,
   "id": "9f506792-5736-445b-a553-01f33193da13",
   "metadata": {},
   "outputs": [
    {
     "data": {
      "image/png": "[encoded data removed]",
      "text/plain": [
       "<Figure size 432x288 with 1 Axes>"
      ]
     },
     "metadata": {
      "needs_background": "light"
     },
     "output_type": "display_data"
    }
   ],
   "source": [
    "coef_df.sort_values(by='coef_score', ascending=False).head(10).plot(kind='bar')\n",
    "plt.title('Most impactful words to predict running')\n",
    "plt.xlabel('Word')\n",
    "plt.ylabel('Coefficient');"
   ]
  },
  {
   "cell_type": "code",
   "execution_count": 22,
   "id": "12b9d0dc-7379-402e-8d85-60cdcffbe94c",
   "metadata": {},
   "outputs": [
    {
     "data": {
      "image/png": "[encoded data removed]",
      "text/plain": [
       "<Figure size 432x288 with 1 Axes>"
      ]
     },
     "metadata": {
      "needs_background": "light"
     },
     "output_type": "display_data"
    }
   ],
   "source": [
    "abs(coef_df.sort_values(by='coef_score', ascending=True).head(10)).plot(kind='bar')\n",
    "plt.title('Most impactful words to predict dog training')\n",
    "plt.xlabel('Word')\n",
    "plt.ylabel('Coefficient');"
   ]
  },
  {
   "cell_type": "markdown",
   "id": "f2c46c07-c2a3-4386-af9c-40539c0cf8e6",
   "metadata": {},
   "source": [
    "Logistic Regression with the standard parameters does a very good job of identifying which subreddit a post came from. This indicates that the subreddits may be too divergent. To make the problem harder, I will create a custom list of stop words that exclude the most common words in each subreddit"
   ]
  },
  {
   "cell_type": "markdown",
   "id": "3b133fc4-a27c-46eb-b4cf-3eab88901d91",
   "metadata": {},
   "source": [
    "#### Creating Custom Stop Words"
   ]
  },
  {
   "cell_type": "code",
   "execution_count": 28,
   "id": "985ca6f4-6741-4c2a-844c-19a57fbeeabc",
   "metadata": {},
   "outputs": [],
   "source": [
    "custom_stop_words= ['running', 'run', 'marathon', 'race', 'runs', 'ran', 'shoes', 'runner',\n",
    "       'runners', 'pain', 'miles', 'mile', 'track', 'post', 'treadmill', 'app',\n",
    "       'title', 'wondering', 'foot', 'pace', 'jogging', 'shoe', 'https',\n",
    "       'thread', 'curious', 'week', '5k', 'haven', 'body', 'atl', 'half',\n",
    "       'hill', 'fast', 'feel', 'live', 'achievement', 'ankle', 'pair',\n",
    "       'school', 'jog','outside', 'vet', 'bothering', 'close', 'sit', 'doesn', 'advise', 'pet',\n",
    "       'pee', 'barking', 'away', 'barks', 'explain', 'toys', 'boy', 'say',\n",
    "       'teach', 'gsd', 'behavior', 'potty', 'tips', 'loves', 'trainer',\n",
    "       'leave', 'collar', 'food', 'house', 'treats', 'play', 'gets', 'train',\n",
    "       'crate', 'treat', 'help', 'leash', 'dogs', 'pup', 'puppy', 'old',\n",
    "       'dog']"
   ]
  },
  {
   "cell_type": "code",
   "execution_count": 29,
   "id": "040c36f7-db2d-4a45-977c-2d604a4617b0",
   "metadata": {},
   "outputs": [
    {
     "data": {
      "text/plain": [
       "80"
      ]
     },
     "execution_count": 29,
     "metadata": {},
     "output_type": "execute_result"
    }
   ],
   "source": [
    "len(custom_stop_words)"
   ]
  },
  {
   "cell_type": "markdown",
   "id": "1615a0a0-16da-4740-9c6d-3b45d18d9892",
   "metadata": {},
   "source": [
    "#### Create a new basline model with the custom stop words"
   ]
  },
  {
   "cell_type": "code",
   "execution_count": 30,
   "id": "c4afd0e7-ed58-41e3-9019-044afea97f0b",
   "metadata": {},
   "outputs": [],
   "source": [
    "cv2 = CountVectorizer(stop_words=custom_stop_words)"
   ]
  },
  {
   "cell_type": "code",
   "execution_count": 31,
   "id": "cf5bbc5d-40e1-4b2b-be17-14f127d22ed7",
   "metadata": {},
   "outputs": [
    {
     "data": {
      "text/plain": [
       "dog         4976\n",
       "just        4221\n",
       "run         3338\n",
       "running     3292\n",
       "time        3189\n",
       "like        3067\n",
       "ve          3053\n",
       "training    2560\n",
       "dogs        2054\n",
       "really      1916\n",
       "dtype: int64"
      ]
     },
     "execution_count": 31,
     "metadata": {},
     "output_type": "execute_result"
    }
   ],
   "source": [
    "df_cv.sum().sort_values(ascending=False).head(10)"
   ]
  },
  {
   "cell_type": "code",
   "execution_count": 37,
   "id": "262d896b-5dc5-42ea-b665-04f3f44db7b5",
   "metadata": {},
   "outputs": [],
   "source": [
    "pipe2 = make_pipeline(\n",
    "    CountVectorizer(stop_words=custom_stop_words),\n",
    "    LogisticRegression()\n",
    ")"
   ]
  },
  {
   "cell_type": "code",
   "execution_count": 38,
   "id": "bdffae59-677a-4627-9685-a0af41b871cf",
   "metadata": {},
   "outputs": [
    {
     "data": {
      "text/plain": [
       "Pipeline(steps=[('countvectorizer',\n",
       "                 CountVectorizer(stop_words=['running', 'run', 'marathon',\n",
       "                                             'race', 'runs', 'ran', 'shoes',\n",
       "                                             'runner', 'runners', 'pain',\n",
       "                                             'miles', 'mile', 'track', 'post',\n",
       "                                             'treadmill', 'app', 'title',\n",
       "                                             'wondering', 'foot', 'pace',\n",
       "                                             'jogging', 'shoe', 'https',\n",
       "                                             'thread', 'curious', 'week', '5k',\n",
       "                                             'haven', 'body', 'atl', ...])),\n",
       "                ('logisticregression', LogisticRegression())])"
      ]
     },
     "execution_count": 38,
     "metadata": {},
     "output_type": "execute_result"
    }
   ],
   "source": [
    "pipe2.fit(X_train, y_train)"
   ]
  },
  {
   "cell_type": "code",
   "execution_count": 39,
   "id": "48c0d674-32bd-49d0-83be-74478c3dc040",
   "metadata": {},
   "outputs": [
    {
     "data": {
      "text/plain": [
       "(0.972704140643072, 0.9403192227619709)"
      ]
     },
     "execution_count": 39,
     "metadata": {},
     "output_type": "execute_result"
    }
   ],
   "source": [
    "pipe2.score(X_train, y_train), pipe2.score(X_test,y_test)"
   ]
  },
  {
   "cell_type": "markdown",
   "id": "75a3d54c-f616-4c02-b011-4eb83af17c60",
   "metadata": {},
   "source": [
    "#### Pickling & Exporting for later use"
   ]
  },
  {
   "cell_type": "code",
   "execution_count": 40,
   "id": "9f28c2d8-aa0f-4239-ac98-cb57457a4872",
   "metadata": {},
   "outputs": [],
   "source": [
    "with open('./pickles/custom_words.pkl', 'wb') as pickle_out:\n",
    "    pickle.dump(custom_stop_words, pickle_out)"
   ]
  },
  {
   "cell_type": "code",
   "execution_count": 41,
   "id": "d1b950ba-3291-4c5a-bc53-2d7f59117648",
   "metadata": {},
   "outputs": [],
   "source": [
    "df.to_csv('./data/cleaned_posts.csv', index=False)"
   ]
  },
  {
   "cell_type": "code",
   "execution_count": null,
   "id": "2c260808-59ea-4d30-bd50-6d5ad9741830",
   "metadata": {},
   "outputs": [],
   "source": []
  }
 ],
 "metadata": {
  "kernelspec": {
   "display_name": "Python 3 (ipykernel)",
   "language": "python",
   "name": "python3"
  },
  "language_info": {
   "codemirror_mode": {
    "name": "ipython",
    "version": 3
   },
   "file_extension": ".py",
   "mimetype": "text/x-python",
   "name": "python",
   "nbconvert_exporter": "python",
   "pygments_lexer": "ipython3",
   "version": "3.9.7"
  }
 },
 "nbformat": 4,
 "nbformat_minor": 5
}
